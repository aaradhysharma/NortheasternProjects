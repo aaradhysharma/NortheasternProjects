{
 "cells": [
  {
   "cell_type": "markdown",
   "metadata": {},
   "source": [
    "\n",
    "INFO6105 Instructor: Dr. Handan Liu\n",
    "\n",
    "Homework 2\n",
    "\n",
    "Grading: total 100 points.\n"
   ]
  },
  {
   "cell_type": "raw",
   "metadata": {},
   "source": []
  },
  {
   "cell_type": "code",
   "execution_count": 109,
   "metadata": {},
   "outputs": [],
   "source": [
    "import numpy as np\n",
    "import pandas as pd\n",
    "import matplotlib.pyplot as plt"
   ]
  },
  {
   "cell_type": "markdown",
   "metadata": {},
   "source": [
    "\n",
    "\n",
    "Part 1: Pandas -- 8 questions, total 44 points. \n",
    "\n"
   ]
  },
  {
   "cell_type": "raw",
   "metadata": {},
   "source": [
    "1. [3 points] Given data = [1,2,3,4,5,6,7,8,9,5,3]\n",
    "   (1) create a Pandas Series (1pts), and \n",
    "   (2) calculate the mean of the Series (0.5pts) and print the outputs to 4 decimal places in floating point format (0.5pts)\n",
    "   (3) calcaulate the standard deviation of the Series (0.5pts) and print the outputs to 4 decimal places in floating point format (0.5pts)."
   ]
  },
  {
   "cell_type": "code",
   "execution_count": 4,
   "metadata": {},
   "outputs": [
    {
     "name": "stdout",
     "output_type": "stream",
     "text": [
      "0     1\n",
      "1     2\n",
      "2     3\n",
      "3     4\n",
      "4     5\n",
      "5     6\n",
      "6     7\n",
      "7     8\n",
      "8     9\n",
      "9     5\n",
      "10    3\n",
      "dtype: int64\n"
     ]
    }
   ],
   "source": [
    "#1.1\n",
    "x = pd.Series([1,2,3,4,5,6,7,8,9,5,3], pd.RangeIndex(0,11))\n",
    "print(x)"
   ]
  },
  {
   "cell_type": "code",
   "execution_count": 6,
   "metadata": {},
   "outputs": [
    {
     "name": "stdout",
     "output_type": "stream",
     "text": [
      "4.8182\n"
     ]
    }
   ],
   "source": [
    "#1.2\n",
    "print(float(round(pd.Series.mean(x),4)))"
   ]
  },
  {
   "cell_type": "code",
   "execution_count": 50,
   "metadata": {},
   "outputs": [
    {
     "name": "stdout",
     "output_type": "stream",
     "text": [
      "2.5226\n"
     ]
    }
   ],
   "source": [
    "#1.3\n",
    "print(float(round(pd.Series.std(x),4))"
   ]
  },
  {
   "cell_type": "raw",
   "metadata": {},
   "source": [
    "2. [2 points] NumPy array: d1 = [10, 20, 30, 40, 50];  dictionary: d2 = {'a': 100, 'b': 200, 'c':300, 'd':400, 'e':800}    \n",
    "Convert the NumPy array and the dictionary to Pandas Series, respectively."
   ]
  },
  {
   "cell_type": "code",
   "execution_count": 18,
   "metadata": {},
   "outputs": [
    {
     "name": "stdout",
     "output_type": "stream",
     "text": [
      "0    10\n",
      "1    20\n",
      "2    30\n",
      "3    40\n",
      "4    50\n",
      "dtype: int32\n",
      "a    100\n",
      "b    200\n",
      "c    300\n",
      "d    400\n",
      "e    800\n",
      "dtype: int64\n"
     ]
    }
   ],
   "source": [
    "d1 = np.array([10, 20, 30, 40, 50])\n",
    "d1 = pd.Series(d1)\n",
    "\n",
    "d2 = {'a': 100,'b': 200,'c':300,'d':400,'e':800}\n",
    "d2 = pd.Series(d2)\n",
    "print(d1)\n",
    "print(d2)\n"
   ]
  },
  {
   "cell_type": "raw",
   "metadata": {},
   "source": [
    "3: [4 points] Construct a DataFrame as the sameple data here and output (2pts). Use \"iloc\" to convert the first column of a DataFrame as a Series (2pts). \n",
    "Sample data:\n",
    "    col1  col2  col3\n",
    "0     1     4     7\n",
    "1     2     5     5\n",
    "2     3     6     8\n",
    "3     4     9    12\n",
    "4     7     5     1\n",
    "5    11     0    11"
   ]
  },
  {
   "cell_type": "code",
   "execution_count": 108,
   "metadata": {},
   "outputs": [
    {
     "name": "stdout",
     "output_type": "stream",
     "text": [
      "   col1  col2  col3\n",
      "0     1     4     7\n",
      "1     2     5     5\n",
      "2     3     6     8\n",
      "3     4     9    12\n",
      "4     7     5     1\n",
      "5    11     0    11\n"
     ]
    },
    {
     "data": {
      "text/plain": [
       "0     1\n",
       "1     2\n",
       "2     3\n",
       "3     4\n",
       "4     7\n",
       "5    11\n",
       "Name: col1, dtype: int64"
      ]
     },
     "execution_count": 108,
     "metadata": {},
     "output_type": "execute_result"
    }
   ],
   "source": [
    "x = pd.DataFrame({'col1': [1, 2, 3,4,7,11], 'col2': [4,5,6,9,5,0],'col3': [7,5,8,12,1,11]}, \n",
    "                  columns=['col1', 'col2','col3'])\n",
    "print(x)\n",
    "x.iloc[:,0]\n"
   ]
  },
  {
   "cell_type": "raw",
   "metadata": {},
   "source": [
    "4. Create a DataFram with multiple indice, the result should be the following: here, \"random\" means any integer random number for books. [7 point]\n",
    "\n",
    "                       Bob     Tom\n",
    " 1st          2nd                    \n",
    "fiction       one     random  random\n",
    "              two     random  random\n",
    "non-fiction   one     random  random\n",
    "              two     random  random\n",
    "sci-fi        one     random  random\n",
    "              two     random  random\n",
    "chapter       one     random  random\n",
    "              two     random  random"
   ]
  },
  {
   "cell_type": "code",
   "execution_count": 246,
   "metadata": {},
   "outputs": [
    {
     "name": "stdout",
     "output_type": "stream",
     "text": [
      "                 bob  tom\n",
      "1st         2nd          \n",
      "fiction     one   86   36\n",
      "            two   94   11\n",
      "non-fiction one   88   59\n",
      "            two   15   93\n",
      "sci fi      one   32   94\n",
      "            two   84    2\n",
      "chapter     one   91    2\n",
      "            two    9   28\n"
     ]
    }
   ],
   "source": [
    "x= [['fiction', 'fiction', 'non-fiction','non-fiction', 'sci fi', 'sci fi','chapter','chapter'],\n",
    "['one','two','one','two','one','two','one','two']]\n",
    "y=list(zip(*x))\n",
    "index=pd.MultiIndex.from_tuples(y, names =['1st','2nd'])\n",
    "z=pd.DataFrame(np.random.randint(1,100,size=(8,2)),index=index,columns=['bob','tom'])\n",
    "print(z)"
   ]
  },
  {
   "cell_type": "raw",
   "metadata": {},
   "source": [
    "5. Write a Pandas program to replace all the NaN values with Zero's in a column of a dataframe. [5 points]. \n",
    "Sample data is a dataset for an exam:\n",
    "  attempts name qualify score\n",
    "0 1 Anastasia yes 12.5\n",
    "1 3 Dima no 9.0\n",
    "2 2 Katherine yes 16.5\n",
    "3 3 James no N/A\n",
    "4 2 Emily no 9.0\n",
    "5 3 Michael yes 20.0\n",
    "6 1 Matthew yes 14.5\n",
    "7 1 Laura no N/A\n",
    "8 2 Kevin no 8.0\n",
    "9 1 Jonas yes 19.0\n",
    "1) Construct a DataFrame and the column in the order as name, score, attempts, qualify; [3pts]\n",
    "2) New DataFrame replacing all missing data with 0 and print. [2pts]"
   ]
  },
  {
   "cell_type": "code",
   "execution_count": 20,
   "metadata": {},
   "outputs": [
    {
     "data": {
      "text/html": [
       "<div>\n",
       "<style scoped>\n",
       "    .dataframe tbody tr th:only-of-type {\n",
       "        vertical-align: middle;\n",
       "    }\n",
       "\n",
       "    .dataframe tbody tr th {\n",
       "        vertical-align: top;\n",
       "    }\n",
       "\n",
       "    .dataframe thead th {\n",
       "        text-align: right;\n",
       "    }\n",
       "</style>\n",
       "<table border=\"1\" class=\"dataframe\">\n",
       "  <thead>\n",
       "    <tr style=\"text-align: right;\">\n",
       "      <th></th>\n",
       "      <th>name</th>\n",
       "      <th>score</th>\n",
       "      <th>attempts</th>\n",
       "      <th>qualify</th>\n",
       "    </tr>\n",
       "  </thead>\n",
       "  <tbody>\n",
       "    <tr>\n",
       "      <th>0</th>\n",
       "      <td>Anastasia</td>\n",
       "      <td>12.5</td>\n",
       "      <td>1</td>\n",
       "      <td>yes</td>\n",
       "    </tr>\n",
       "    <tr>\n",
       "      <th>1</th>\n",
       "      <td>Dima</td>\n",
       "      <td>9.0</td>\n",
       "      <td>3</td>\n",
       "      <td>no</td>\n",
       "    </tr>\n",
       "    <tr>\n",
       "      <th>2</th>\n",
       "      <td>Katherine</td>\n",
       "      <td>16.5</td>\n",
       "      <td>2</td>\n",
       "      <td>yes</td>\n",
       "    </tr>\n",
       "    <tr>\n",
       "      <th>3</th>\n",
       "      <td>James</td>\n",
       "      <td>NaN</td>\n",
       "      <td>3</td>\n",
       "      <td>no</td>\n",
       "    </tr>\n",
       "    <tr>\n",
       "      <th>4</th>\n",
       "      <td>Emily</td>\n",
       "      <td>9.0</td>\n",
       "      <td>2</td>\n",
       "      <td>no</td>\n",
       "    </tr>\n",
       "    <tr>\n",
       "      <th>5</th>\n",
       "      <td>Michael</td>\n",
       "      <td>20.0</td>\n",
       "      <td>3</td>\n",
       "      <td>yes</td>\n",
       "    </tr>\n",
       "    <tr>\n",
       "      <th>6</th>\n",
       "      <td>Matthew</td>\n",
       "      <td>14.5</td>\n",
       "      <td>1</td>\n",
       "      <td>yes</td>\n",
       "    </tr>\n",
       "    <tr>\n",
       "      <th>7</th>\n",
       "      <td>Laura</td>\n",
       "      <td>NaN</td>\n",
       "      <td>1</td>\n",
       "      <td>no</td>\n",
       "    </tr>\n",
       "    <tr>\n",
       "      <th>8</th>\n",
       "      <td>Kevin</td>\n",
       "      <td>8.0</td>\n",
       "      <td>2</td>\n",
       "      <td>no</td>\n",
       "    </tr>\n",
       "    <tr>\n",
       "      <th>9</th>\n",
       "      <td>Jonas</td>\n",
       "      <td>19.0</td>\n",
       "      <td>1</td>\n",
       "      <td>yes</td>\n",
       "    </tr>\n",
       "  </tbody>\n",
       "</table>\n",
       "</div>"
      ],
      "text/plain": [
       "        name  score  attempts qualify\n",
       "0  Anastasia   12.5         1     yes\n",
       "1       Dima    9.0         3      no\n",
       "2  Katherine   16.5         2     yes\n",
       "3      James    NaN         3      no\n",
       "4      Emily    9.0         2      no\n",
       "5    Michael   20.0         3     yes\n",
       "6    Matthew   14.5         1     yes\n",
       "7      Laura    NaN         1      no\n",
       "8      Kevin    8.0         2      no\n",
       "9      Jonas   19.0         1     yes"
      ]
     },
     "execution_count": 20,
     "metadata": {},
     "output_type": "execute_result"
    }
   ],
   "source": [
    "#5.1\n",
    "x= {'name':['Anastasia', 'Dima', 'Katherine', 'James', 'Emily', 'Michael', 'Matthew', 'Laura', 'Kevin', 'Jonas'],\n",
    "        'score': [12.5, 9, 16.5, np.nan, 9, 20, 14.5, np.nan, 8, 19],\n",
    "        'attempts': [1, 3, 2, 3, 2, 3, 1, 1, 2, 1],\n",
    "        'qualify': ['yes', 'no', 'yes', 'no', 'no', 'yes', 'yes', 'no', 'no', 'yes']}\n",
    "x = pd.DataFrame(x)\n",
    "x\n",
    "\n"
   ]
  },
  {
   "cell_type": "code",
   "execution_count": 22,
   "metadata": {},
   "outputs": [
    {
     "name": "stdout",
     "output_type": "stream",
     "text": [
      "        name  score  attempts qualify\n",
      "0  Anastasia   12.5         1     yes\n",
      "1       Dima    9.0         3      no\n",
      "2  Katherine   16.5         2     yes\n",
      "3      James    0.0         3      no\n",
      "4      Emily    9.0         2      no\n",
      "5    Michael   20.0         3     yes\n",
      "6    Matthew   14.5         1     yes\n",
      "7      Laura    0.0         1      no\n",
      "8      Kevin    8.0         2      no\n",
      "9      Jonas   19.0         1     yes\n"
     ]
    }
   ],
   "source": [
    "#5.2\n",
    "x =  x.fillna(0)\n",
    "print(x)"
   ]
  },
  {
   "cell_type": "raw",
   "metadata": {},
   "source": [
    "6. Add some data ['500', 'php'] to an existing Series. [3 points]\n",
    "Given Data Series:\n",
    "0       100\n",
    "1       200\n",
    "2    python\n",
    "3    300.12\n",
    "4       400"
   ]
  },
  {
   "cell_type": "code",
   "execution_count": 40,
   "metadata": {},
   "outputs": [
    {
     "data": {
      "text/plain": [
       "0       100\n",
       "1       200\n",
       "2    python\n",
       "3    300.12\n",
       "4       400\n",
       "0       500\n",
       "1       php\n",
       "dtype: object"
      ]
     },
     "execution_count": 40,
     "metadata": {},
     "output_type": "execute_result"
    }
   ],
   "source": [
    "x = pd.Series(['100', '200', 'python', '300.12', '400'])\n",
    "x2 = x.append(pd.Series(['500', 'php']))\n",
    "x2\n"
   ]
  },
  {
   "cell_type": "raw",
   "metadata": {},
   "source": [
    "7. [10 points]: Given data:\n",
    "    col1  col2  col3\n",
    "0     1     4     7\n",
    "1     2     5     5\n",
    "2     3     6     8\n",
    "3     4     9    12\n",
    "4     7     5     1\n",
    "5    11     0    11   \n",
    "(1) Construct a DataFrame from the given data (and print)   [3pts]\n",
    "(2) Print the number of columns of the DataFrame            [1pt]\n",
    "(3) Select all columns, except one given column 'col3'      [2pts]\n",
    "(4) Remove first 3 rows of the DataFrame    [2pts]\n",
    "(5) Remove last 3 rows of the DataFrame     [2pts]  \n",
    "Tips: use indexers loc and/or iloc to finish."
   ]
  },
  {
   "cell_type": "code",
   "execution_count": 53,
   "metadata": {},
   "outputs": [
    {
     "name": "stdout",
     "output_type": "stream",
     "text": [
      "   col1  col2  col3\n",
      "0     1     4     7\n",
      "1     2     5     5\n",
      "2     3     6     8\n",
      "3     4     9    12\n",
      "4     7     5     1\n",
      "5    11     0    11\n"
     ]
    }
   ],
   "source": [
    "#7.1\n",
    "x = pd.DataFrame({'col1': [1, 2, 3,4,7,11], 'col2': [4,5,6,9,5,0],'col3': [7,5,8,12,1,11]}, \n",
    "                  columns=['col1', 'col2','col3'])\n",
    "print(x)"
   ]
  },
  {
   "cell_type": "code",
   "execution_count": 46,
   "metadata": {},
   "outputs": [
    {
     "data": {
      "text/plain": [
       "3"
      ]
     },
     "execution_count": 46,
     "metadata": {},
     "output_type": "execute_result"
    }
   ],
   "source": [
    "#7.2\n",
    "len(x.columns)"
   ]
  },
  {
   "cell_type": "code",
   "execution_count": 49,
   "metadata": {},
   "outputs": [
    {
     "data": {
      "text/html": [
       "<div>\n",
       "<style scoped>\n",
       "    .dataframe tbody tr th:only-of-type {\n",
       "        vertical-align: middle;\n",
       "    }\n",
       "\n",
       "    .dataframe tbody tr th {\n",
       "        vertical-align: top;\n",
       "    }\n",
       "\n",
       "    .dataframe thead th {\n",
       "        text-align: right;\n",
       "    }\n",
       "</style>\n",
       "<table border=\"1\" class=\"dataframe\">\n",
       "  <thead>\n",
       "    <tr style=\"text-align: right;\">\n",
       "      <th></th>\n",
       "      <th>col1</th>\n",
       "      <th>col2</th>\n",
       "    </tr>\n",
       "  </thead>\n",
       "  <tbody>\n",
       "    <tr>\n",
       "      <th>0</th>\n",
       "      <td>1</td>\n",
       "      <td>4</td>\n",
       "    </tr>\n",
       "    <tr>\n",
       "      <th>1</th>\n",
       "      <td>2</td>\n",
       "      <td>5</td>\n",
       "    </tr>\n",
       "    <tr>\n",
       "      <th>2</th>\n",
       "      <td>3</td>\n",
       "      <td>6</td>\n",
       "    </tr>\n",
       "    <tr>\n",
       "      <th>3</th>\n",
       "      <td>4</td>\n",
       "      <td>9</td>\n",
       "    </tr>\n",
       "    <tr>\n",
       "      <th>4</th>\n",
       "      <td>7</td>\n",
       "      <td>5</td>\n",
       "    </tr>\n",
       "    <tr>\n",
       "      <th>5</th>\n",
       "      <td>11</td>\n",
       "      <td>0</td>\n",
       "    </tr>\n",
       "  </tbody>\n",
       "</table>\n",
       "</div>"
      ],
      "text/plain": [
       "   col1  col2\n",
       "0     1     4\n",
       "1     2     5\n",
       "2     3     6\n",
       "3     4     9\n",
       "4     7     5\n",
       "5    11     0"
      ]
     },
     "execution_count": 49,
     "metadata": {},
     "output_type": "execute_result"
    }
   ],
   "source": [
    "x.loc[:, x.columns != 'col3']\n"
   ]
  },
  {
   "cell_type": "code",
   "execution_count": 56,
   "metadata": {},
   "outputs": [
    {
     "name": "stdout",
     "output_type": "stream",
     "text": [
      "   col1  col2  col3\n",
      "3     4     9    12\n",
      "4     7     5     1\n",
      "5    11     0    11\n"
     ]
    }
   ],
   "source": [
    "print(x.iloc[3:])"
   ]
  },
  {
   "cell_type": "code",
   "execution_count": 58,
   "metadata": {},
   "outputs": [
    {
     "name": "stdout",
     "output_type": "stream",
     "text": [
      "   col1  col2  col3\n",
      "0     1     4     7\n",
      "1     2     5     5\n",
      "2     3     6     8\n"
     ]
    }
   ],
   "source": [
    "print(x.iloc[:3])"
   ]
  },
  {
   "cell_type": "raw",
   "metadata": {},
   "source": [
    "8. [10 points]: \n",
    "(1) read data from HW2_movies.csv file to Pandas\n",
    "(2) get the information of the DataFrame (movies.csv file) including data types and memory usage.\n",
    "(3) count the number of rows and columns of the DataFrame \n",
    "(4) get the details of fifth movie of the DataFrame.\n",
    "(5) display the movies (title, runtime)longer than 30 minutes and shorter than 360 minutes."
   ]
  },
  {
   "cell_type": "code",
   "execution_count": 62,
   "metadata": {},
   "outputs": [],
   "source": [
    "#8.1\n",
    "x = pd.read_csv('HW2_movies.csv')"
   ]
  },
  {
   "cell_type": "code",
   "execution_count": 63,
   "metadata": {},
   "outputs": [
    {
     "name": "stdout",
     "output_type": "stream",
     "text": [
      "<class 'pandas.core.frame.DataFrame'>\n",
      "RangeIndex: 50 entries, 0 to 49\n",
      "Data columns (total 24 columns):\n",
      " #   Column                 Non-Null Count  Dtype  \n",
      "---  ------                 --------------  -----  \n",
      " 0   adult                  50 non-null     bool   \n",
      " 1   belongs_to_collection  10 non-null     object \n",
      " 2   budget                 50 non-null     int64  \n",
      " 3   genres                 50 non-null     object \n",
      " 4   homepage               5 non-null      object \n",
      " 5   id                     50 non-null     int64  \n",
      " 6   imdb_id                50 non-null     object \n",
      " 7   original_language      50 non-null     object \n",
      " 8   original_title         50 non-null     object \n",
      " 9   overview               49 non-null     object \n",
      " 10  popularity             50 non-null     float64\n",
      " 11  poster_path            50 non-null     object \n",
      " 12  production_companies   50 non-null     object \n",
      " 13  production_countries   50 non-null     object \n",
      " 14  release_date           50 non-null     object \n",
      " 15  revenue                50 non-null     int64  \n",
      " 16  runtime                50 non-null     float64\n",
      " 17  spoken_languages       50 non-null     object \n",
      " 18  status                 50 non-null     object \n",
      " 19  tagline                41 non-null     object \n",
      " 20  title                  50 non-null     object \n",
      " 21  video                  50 non-null     bool   \n",
      " 22  vote_average           50 non-null     float64\n",
      " 23  vote_count             50 non-null     int64  \n",
      "dtypes: bool(2), float64(3), int64(4), object(15)\n",
      "memory usage: 8.8+ KB\n",
      "None\n"
     ]
    }
   ],
   "source": [
    "#8.2\n",
    "information = x.info()\n",
    "print(information)"
   ]
  },
  {
   "cell_type": "code",
   "execution_count": 66,
   "metadata": {},
   "outputs": [
    {
     "name": "stdout",
     "output_type": "stream",
     "text": [
      "rows and column: (50, 24)\n"
     ]
    }
   ],
   "source": [
    "#8.3\n",
    "L = x.shape\n",
    "print(\"rows and column:\",L)"
   ]
  },
  {
   "cell_type": "code",
   "execution_count": 75,
   "metadata": {},
   "outputs": [
    {
     "name": "stdout",
     "output_type": "stream",
     "text": [
      "fifth movie\n",
      "adult                                                                False\n",
      "belongs_to_collection    {'id': 96871, 'name': 'Father of the Bride Col...\n",
      "budget                                                                   0\n",
      "genres                                      [{'id': 35, 'name': 'Comedy'}]\n",
      "homepage                                                               NaN\n",
      "id                                                                   11862\n",
      "imdb_id                                                          tt0113041\n",
      "original_language                                                       en\n",
      "original_title                                 Father of the Bride Part II\n",
      "overview                 Just when George Banks has recovered from his ...\n",
      "popularity                                                         8.38752\n",
      "poster_path                               /e64sOI48hQXyru7naBFyssKFxVd.jpg\n",
      "production_companies     [{'name': 'Sandollar Productions', 'id': 5842}...\n",
      "production_countries     [{'iso_3166_1': 'US', 'name': 'United States o...\n",
      "release_date                                                    1995-02-10\n",
      "revenue                                                           76578911\n",
      "runtime                                                                106\n",
      "spoken_languages                  [{'iso_639_1': 'en', 'name': 'English'}]\n",
      "status                                                            Released\n",
      "tagline                  Just When His World Is Back To Normal... He's ...\n",
      "title                                          Father of the Bride Part II\n",
      "video                                                                False\n",
      "vote_average                                                           5.7\n",
      "vote_count                                                             173\n",
      "Name: 4, dtype: object\n"
     ]
    }
   ],
   "source": [
    "#8.4\n",
    "print(\"fifth movie\")\n",
    "print(x.iloc[4])"
   ]
  },
  {
   "cell_type": "code",
   "execution_count": 77,
   "metadata": {},
   "outputs": [
    {
     "name": "stdout",
     "output_type": "stream",
     "text": [
      "movies shorter than 360 min and longer than 30 min are\n",
      "                             title  runtime\n",
      "0                        Toy Story     81.0\n",
      "1                          Jumanji    104.0\n",
      "2                 Grumpier Old Men    101.0\n",
      "3                Waiting to Exhale    127.0\n",
      "4      Father of the Bride Part II    106.0\n",
      "5                             Heat    170.0\n",
      "6                          Sabrina    127.0\n",
      "7                     Tom and Huck     97.0\n",
      "8                     Sudden Death    106.0\n",
      "9                        GoldenEye    130.0\n",
      "10          The American President    106.0\n",
      "11     Dracula: Dead and Loving It     88.0\n",
      "12                           Balto     78.0\n",
      "13                           Nixon    192.0\n",
      "14                Cutthroat Island    119.0\n",
      "15                          Casino    178.0\n",
      "16           Sense and Sensibility    136.0\n",
      "17                      Four Rooms     98.0\n",
      "18  Ace Ventura: When Nature Calls     90.0\n",
      "19                     Money Train    103.0\n",
      "20                      Get Shorty    105.0\n",
      "21                         Copycat    124.0\n",
      "22                       Assassins    132.0\n",
      "23                          Powder    111.0\n",
      "24               Leaving Las Vegas    112.0\n",
      "25                         Othello    123.0\n",
      "26                    Now and Then    100.0\n",
      "27                      Persuasion    104.0\n",
      "28       The City of Lost Children    108.0\n",
      "29                  Shanghai Triad    108.0\n",
      "30                 Dangerous Minds     99.0\n",
      "31                  Twelve Monkeys    129.0\n",
      "32                Wings of Courage     50.0\n",
      "33                            Babe     89.0\n",
      "34                      Carrington    121.0\n",
      "35                Dead Man Walking    122.0\n",
      "36          Across the Sea of Time     51.0\n",
      "37                    It Takes Two    101.0\n",
      "38                        Clueless     97.0\n",
      "39        Cry, the Beloved Country    106.0\n",
      "40                     Richard III    104.0\n",
      "41                 Dead Presidents    119.0\n",
      "42                     Restoration    117.0\n",
      "43                   Mortal Kombat    101.0\n",
      "44                      To Die For    106.0\n",
      "45   How To Make An American Quilt    116.0\n",
      "46                           Se7en    127.0\n",
      "47                      Pocahontas     81.0\n",
      "48           When Night Is Falling     96.0\n",
      "49              The Usual Suspects    106.0\n"
     ]
    }
   ],
   "source": [
    "#8.5\n",
    "ml = x[['title', 'runtime']]\n",
    "y = ml[(ml['runtime'] >= 30) & (ml['runtime'] <= 360)]\n",
    "print(\"movies shorter than 360 min and longer than 30 min are\")\n",
    "print(y)"
   ]
  },
  {
   "cell_type": "markdown",
   "metadata": {},
   "source": [
    "\n",
    "\n",
    "Part 2: Matplotlib -- 5 questions, total 39 points. \n",
    "\n"
   ]
  },
  {
   "cell_type": "raw",
   "metadata": {},
   "source": [
    "1. [6 points]: plot several lines with different format styles in one command using arrays.\n",
    "Sampled time at 200ms intervals: t = np.arange(0., 5., 0.2)\n",
    "Using green dashes, blue squares and red triangles to plot: t, t**2, t**3."
   ]
  },
  {
   "cell_type": "code",
   "execution_count": 85,
   "metadata": {},
   "outputs": [
    {
     "data": {
      "image/png": "[encoded data removed]",
      "text/plain": [
       "<Figure size 432x288 with 1 Axes>"
      ]
     },
     "metadata": {
      "needs_background": "light"
     },
     "output_type": "display_data"
    }
   ],
   "source": [
    "t = np.arange(0., 5., 0.2)\n",
    "\n",
    "plt.plot(t, t, 'g--', t, t**2, 'bs', t, t**3, 'r^')\n",
    "plt.show()"
   ]
  },
  {
   "cell_type": "raw",
   "metadata": {},
   "source": [
    "2. [11 points]: plot line1 and line2 with different styles\n",
    "# line 1 points\n",
    "x1 = [10,20,30]\n",
    "y1 = [20,40,10]\n",
    "# line 2 points\n",
    "x2 = [10,20,30]\n",
    "y2 = [40,10,30]\n",
    "Set the x and y axes labels as 'x' and 'y';    [2pts]\n",
    "Plot lines and/or markers to the Axes: blue,red; dotted, dashed;   [4pts, each 1pt]\n",
    "Plot the width of line1 as 3 and line2 as 5;   [2pts, each 1pt]\n",
    "Set a title: \"Plot with two or more lines with different styles\";  [1pt]\n",
    "show a legend on the plot as 'line1-dotted', 'line2-dashed'.       [2pt, each 1pt]"
   ]
  },
  {
   "cell_type": "code",
   "execution_count": 99,
   "metadata": {},
   "outputs": [
    {
     "data": {
      "image/png": "[encoded data removed]",
      "text/plain": [
       "<Figure size 432x288 with 1 Axes>"
      ]
     },
     "metadata": {
      "needs_background": "light"
     },
     "output_type": "display_data"
    }
   ],
   "source": [
    "import matplotlib.pyplot as plt\n",
    "\n",
    "x1 = [10,20,30]\n",
    "y1 = [20,40,10]\n",
    "x2 = [10,20,30]\n",
    "y2 = [40,10,30]\n",
    "plt.ylabel('y')\n",
    "plt.xlabel('x')\n",
    "plt.plot(x1,y1, color='blue', linewidth = 3,  label = 'line1-dotted',linestyle='dotted')\n",
    "plt.plot(x2,y2, color='red', linewidth = 5,  label = 'line2-dashed', linestyle='dashed')\n",
    "plt.title(\"Plot with two or more lines with different styles\")\n",
    "plt.legend()\n",
    "plt.show()\n"
   ]
  },
  {
   "cell_type": "raw",
   "metadata": {},
   "source": [
    "3. [4 points]: draw a scatter plot with empty circles taking a 50-point random distribution in X and Y; set X and Y as x- and y- axes lables; any color for face and edge, and plotted against each other."
   ]
  },
  {
   "cell_type": "code",
   "execution_count": 105,
   "metadata": {},
   "outputs": [
    {
     "data": {
      "image/png": "[encoded data removed]",
      "text/plain": [
       "<Figure size 432x288 with 1 Axes>"
      ]
     },
     "metadata": {
      "needs_background": "light"
     },
     "output_type": "display_data"
    }
   ],
   "source": [
    "x = np.random.randn(50) \n",
    "y = np.random.randn(50)\n",
    "plt.scatter(x, y,s=50, facecolors='none', edgecolors='B')\n",
    "plt.xlabel(\"X\")\n",
    "plt.ylabel(\"Y\")\n",
    "plt.show()"
   ]
  },
  {
   "cell_type": "raw",
   "metadata": {},
   "source": [
    "4. [6 points]:  create bar plot from a DataFrame. The result should be the following figure.\n",
    "Sample DataFrame:\n",
    "  a b c d e \n",
    "2 4,8,5,7,6\n",
    "4 2,3,4,2,6\n",
    "6 4,7,4,7,8\n",
    "8 2,6,4,8,6\n",
    "10 2,4,3,3,2"
   ]
  },
  {
   "cell_type": "code",
   "execution_count": 130,
   "metadata": {},
   "outputs": [
    {
     "data": {
      "image/png": "[encoded data removed]",
      "text/plain": [
       "<Figure size 432x288 with 1 Axes>"
      ]
     },
     "metadata": {
      "needs_background": "light"
     },
     "output_type": "display_data"
    }
   ],
   "source": [
    "x=pd.DataFrame([[4,8,5,7,6],[2,3,4,2,6],[4,7,4,7,8],[2,6,4,8,6],[2,4,3,3,2]], \n",
    "               columns=['a','b','c','d','e'], index=[2,4,6,8,10])\n",
    "x.plot(kind='bar')\n",
    "plt.show()"
   ]
  },
  {
   "cell_type": "raw",
   "metadata": {},
   "source": [
    "5. [12 points]:\n",
    "The following dataset for average monthly precipitation. You will create and customize a plot. \n",
    "Month    Precipitation (inches)\n",
    "Jan      0.70\n",
    "Feb      0.75\n",
    "Mar      1.85\n",
    "Apr      2.93\n",
    "May      3.05\n",
    "June     2.02\n",
    "July     1.93\n",
    "Aug      1.62\n",
    "Sept     1.84\n",
    "Oct      1.31\n",
    "Nov      1.39\n",
    "Dec      0.84"
   ]
  },
  {
   "cell_type": "raw",
   "metadata": {},
   "source": [
    "5.1 [6 points]: Begin by creating a plot using the default styles provided by matplotlib.pyplot. \n",
    "You will use months along the x-axis and precip along the y-axis.\n",
    "Set plot title as \"Average Monthly Precipitation\";\n",
    "Add labels to the axes: x label as \"Month\", y label as \"Precipitation (inches)\""
   ]
  },
  {
   "cell_type": "code",
   "execution_count": 208,
   "metadata": {},
   "outputs": [
    {
     "data": {
      "image/png": "[encoded data removed]",
      "text/plain": [
       "<Figure size 800x800 with 1 Axes>"
      ]
     },
     "metadata": {},
     "output_type": "display_data"
    }
   ],
   "source": [
    "x=['Jan','Feb','Mar','Apr','May','June','July','Aug','Sept','Oct','Nov','Dec' ]\n",
    "y=[0.70,0.75,1.85,2.93,3.05,2.02,1.93,1.62,1.84,1.31,1.39,0.84]\n",
    "fig, line = plt.subplots(figsize=(8,8))\n",
    "plt.style.use('default')\n",
    "plt.xlabel(\"Month\")\n",
    "plt.ylabel(\"Precipitation (inches)\")\n",
    "plt.title(\"Average Monthly Precipitation\")\n",
    "line.plot(x,y)\n",
    "plt.show()"
   ]
  },
  {
   "cell_type": "raw",
   "metadata": {},
   "source": [
    "5.2 [6 points]: Change Plot Type\n",
    "You can turn your plot into a bar plot; \n",
    "also assign a fill color using \"green\"."
   ]
  },
  {
   "cell_type": "code",
   "execution_count": 207,
   "metadata": {},
   "outputs": [
    {
     "data": {
      "image/png": "[encoded data removed]",
      "text/plain": [
       "<Figure size 800x800 with 1 Axes>"
      ]
     },
     "metadata": {},
     "output_type": "display_data"
    }
   ],
   "source": [
    "fig, line = plt.subplots(figsize=(8,8))\n",
    "line.bar(x,y, color ='green')\n",
    "plt.show()"
   ]
  },
  {
   "cell_type": "markdown",
   "metadata": {},
   "source": [
    "\n",
    "\n",
    "Part 3: Titanic Case Analyzing with Pandas and Visulizing with Matplotlib\n",
    "Total: 17 points\n"
   ]
  },
  {
   "cell_type": "raw",
   "metadata": {},
   "source": [
    "1. Data Overview: 6pts\n",
    "(1) From HW2_titanic.csv, read into the data in Pandas: 2pts\n",
    "(2) Understand the meaning of each variable: 2pts\n",
    "(3) View all numeric class variables and their associated statistics: 2pts"
   ]
  },
  {
   "cell_type": "code",
   "execution_count": 248,
   "metadata": {},
   "outputs": [],
   "source": [
    "#1.1\n",
    "x = pd.read_csv('HW2_titanic.csv')"
   ]
  },
  {
   "cell_type": "code",
   "execution_count": null,
   "metadata": {},
   "outputs": [],
   "source": [
    "#1.2\n",
    "#Survived\tperson sruvived or not\n",
    "#Pclass\t their ticket class\n",
    "#Name\t there name\n",
    "#Sex\t there gender\n",
    "#Age\tage in years\n",
    "#Siblings/Spouses Aboard sibling or spuse aboard titanic\n",
    "#Parents/Children Aboard\tparent or children abroad at that time\n",
    "#Fare-how much ticket cost\n"
   ]
  },
  {
   "cell_type": "code",
   "execution_count": 220,
   "metadata": {},
   "outputs": [
    {
     "data": {
      "text/html": [
       "<div>\n",
       "<style scoped>\n",
       "    .dataframe tbody tr th:only-of-type {\n",
       "        vertical-align: middle;\n",
       "    }\n",
       "\n",
       "    .dataframe tbody tr th {\n",
       "        vertical-align: top;\n",
       "    }\n",
       "\n",
       "    .dataframe thead th {\n",
       "        text-align: right;\n",
       "    }\n",
       "</style>\n",
       "<table border=\"1\" class=\"dataframe\">\n",
       "  <thead>\n",
       "    <tr style=\"text-align: right;\">\n",
       "      <th></th>\n",
       "      <th>Survived</th>\n",
       "      <th>Pclass</th>\n",
       "      <th>Age</th>\n",
       "      <th>Siblings/Spouses Aboard</th>\n",
       "      <th>Parents/Children Aboard</th>\n",
       "      <th>Fare</th>\n",
       "    </tr>\n",
       "  </thead>\n",
       "  <tbody>\n",
       "    <tr>\n",
       "      <th>count</th>\n",
       "      <td>887.000000</td>\n",
       "      <td>887.000000</td>\n",
       "      <td>887.000000</td>\n",
       "      <td>887.000000</td>\n",
       "      <td>887.000000</td>\n",
       "      <td>887.00000</td>\n",
       "    </tr>\n",
       "    <tr>\n",
       "      <th>mean</th>\n",
       "      <td>0.385569</td>\n",
       "      <td>2.305524</td>\n",
       "      <td>29.471443</td>\n",
       "      <td>0.525366</td>\n",
       "      <td>0.383315</td>\n",
       "      <td>32.30542</td>\n",
       "    </tr>\n",
       "    <tr>\n",
       "      <th>std</th>\n",
       "      <td>0.487004</td>\n",
       "      <td>0.836662</td>\n",
       "      <td>14.121908</td>\n",
       "      <td>1.104669</td>\n",
       "      <td>0.807466</td>\n",
       "      <td>49.78204</td>\n",
       "    </tr>\n",
       "    <tr>\n",
       "      <th>min</th>\n",
       "      <td>0.000000</td>\n",
       "      <td>1.000000</td>\n",
       "      <td>0.420000</td>\n",
       "      <td>0.000000</td>\n",
       "      <td>0.000000</td>\n",
       "      <td>0.00000</td>\n",
       "    </tr>\n",
       "    <tr>\n",
       "      <th>25%</th>\n",
       "      <td>0.000000</td>\n",
       "      <td>2.000000</td>\n",
       "      <td>20.250000</td>\n",
       "      <td>0.000000</td>\n",
       "      <td>0.000000</td>\n",
       "      <td>7.92500</td>\n",
       "    </tr>\n",
       "    <tr>\n",
       "      <th>50%</th>\n",
       "      <td>0.000000</td>\n",
       "      <td>3.000000</td>\n",
       "      <td>28.000000</td>\n",
       "      <td>0.000000</td>\n",
       "      <td>0.000000</td>\n",
       "      <td>14.45420</td>\n",
       "    </tr>\n",
       "    <tr>\n",
       "      <th>75%</th>\n",
       "      <td>1.000000</td>\n",
       "      <td>3.000000</td>\n",
       "      <td>38.000000</td>\n",
       "      <td>1.000000</td>\n",
       "      <td>0.000000</td>\n",
       "      <td>31.13750</td>\n",
       "    </tr>\n",
       "    <tr>\n",
       "      <th>max</th>\n",
       "      <td>1.000000</td>\n",
       "      <td>3.000000</td>\n",
       "      <td>80.000000</td>\n",
       "      <td>8.000000</td>\n",
       "      <td>6.000000</td>\n",
       "      <td>512.32920</td>\n",
       "    </tr>\n",
       "  </tbody>\n",
       "</table>\n",
       "</div>"
      ],
      "text/plain": [
       "         Survived      Pclass         Age  Siblings/Spouses Aboard  \\\n",
       "count  887.000000  887.000000  887.000000               887.000000   \n",
       "mean     0.385569    2.305524   29.471443                 0.525366   \n",
       "std      0.487004    0.836662   14.121908                 1.104669   \n",
       "min      0.000000    1.000000    0.420000                 0.000000   \n",
       "25%      0.000000    2.000000   20.250000                 0.000000   \n",
       "50%      0.000000    3.000000   28.000000                 0.000000   \n",
       "75%      1.000000    3.000000   38.000000                 1.000000   \n",
       "max      1.000000    3.000000   80.000000                 8.000000   \n",
       "\n",
       "       Parents/Children Aboard       Fare  \n",
       "count               887.000000  887.00000  \n",
       "mean                  0.383315   32.30542  \n",
       "std                   0.807466   49.78204  \n",
       "min                   0.000000    0.00000  \n",
       "25%                   0.000000    7.92500  \n",
       "50%                   0.000000   14.45420  \n",
       "75%                   0.000000   31.13750  \n",
       "max                   6.000000  512.32920  "
      ]
     },
     "execution_count": 220,
     "metadata": {},
     "output_type": "execute_result"
    }
   ],
   "source": [
    "x.describe()"
   ]
  },
  {
   "cell_type": "raw",
   "metadata": {},
   "source": [
    "2.Simple analysis of data relationships: 6pts\n",
    "(1) Number of survivors and deaths: 2pts\n",
    "(2) Distribution of survivors and deaths at each level by a DataFrame: 4pts"
   ]
  },
  {
   "cell_type": "code",
   "execution_count": 234,
   "metadata": {},
   "outputs": [
    {
     "name": "stdout",
     "output_type": "stream",
     "text": [
      "0=death and 1= survive\n"
     ]
    },
    {
     "data": {
      "text/plain": [
       "0    545\n",
       "1    342\n",
       "Name: Survived, dtype: int64"
      ]
     },
     "execution_count": 234,
     "metadata": {},
     "output_type": "execute_result"
    }
   ],
   "source": [
    "#2.1\n",
    "print(\"0=death and 1= survive\")\n",
    "x.Survived.value_counts()"
   ]
  },
  {
   "cell_type": "code",
   "execution_count": null,
   "metadata": {},
   "outputs": [],
   "source": [
    "#2.2\n"
   ]
  },
  {
   "cell_type": "raw",
   "metadata": {},
   "source": [
    "3. Visulization: 5pts\n",
    "(1) Use a bar plot to show the distribution of survivors and deaths at each level: each level (Pclass) as x-axis, number of people as y-axis. In each same bar, \"Survived\" is on the top, and \"Died\" is on the bottom. 4pts\n",
    "(2) Show the legend as \"Died\" and \"Survived\". 1pt"
   ]
  },
  {
   "cell_type": "code",
   "execution_count": 254,
   "metadata": {},
   "outputs": [
    {
     "data": {
      "text/html": [
       "<div>\n",
       "<style scoped>\n",
       "    .dataframe tbody tr th:only-of-type {\n",
       "        vertical-align: middle;\n",
       "    }\n",
       "\n",
       "    .dataframe tbody tr th {\n",
       "        vertical-align: top;\n",
       "    }\n",
       "\n",
       "    .dataframe thead th {\n",
       "        text-align: right;\n",
       "    }\n",
       "</style>\n",
       "<table border=\"1\" class=\"dataframe\">\n",
       "  <thead>\n",
       "    <tr style=\"text-align: right;\">\n",
       "      <th></th>\n",
       "      <th>1</th>\n",
       "      <th>2</th>\n",
       "      <th>3</th>\n",
       "    </tr>\n",
       "  </thead>\n",
       "  <tbody>\n",
       "    <tr>\n",
       "      <th>survived</th>\n",
       "      <td>136</td>\n",
       "      <td>87</td>\n",
       "      <td>119</td>\n",
       "    </tr>\n",
       "    <tr>\n",
       "      <th>died</th>\n",
       "      <td>80</td>\n",
       "      <td>97</td>\n",
       "      <td>368</td>\n",
       "    </tr>\n",
       "  </tbody>\n",
       "</table>\n",
       "</div>"
      ],
      "text/plain": [
       "            1   2    3\n",
       "survived  136  87  119\n",
       "died       80  97  368"
      ]
     },
     "execution_count": 254,
     "metadata": {},
     "output_type": "execute_result"
    }
   ],
   "source": [
    "survived = x.loc[x['Survived']==1, :]['Pclass'].value_counts()\n",
    "died     = x.loc[x['Survived']==0, :]['Pclass'].value_counts()\n",
    "df_plot  = pd.DataFrame([survived,died])\n",
    "df_plot.index=['survived','died']\n",
    "df_plot"
   ]
  },
  {
   "cell_type": "code",
   "execution_count": 256,
   "metadata": {},
   "outputs": [
    {
     "data": {
      "image/png": "[encoded data removed]",
      "text/plain": [
       "<Figure size 640x480 with 1 Axes>"
      ]
     },
     "metadata": {},
     "output_type": "display_data"
    }
   ],
   "source": [
    "survived = x.loc[x['Survived']==1, :]['Pclass'].value_counts()\n",
    "died     = x.loc[x['Survived']==0, :]['Pclass'].value_counts()\n",
    "df_plot  = pd.DataFrame([survived,died])\n",
    "df_plot.index=['survived','died']\n",
    "df_plot.plot(kind='bar',stacked=True);"
   ]
  },
  {
   "cell_type": "code",
   "execution_count": null,
   "metadata": {},
   "outputs": [],
   "source": []
  }
 ],
 "metadata": {
  "kernelspec": {
   "display_name": "Python 3",
   "language": "python",
   "name": "python3"
  },
  "language_info": {
   "codemirror_mode": {
    "name": "ipython",
    "version": 3
   },
   "file_extension": ".py",
   "mimetype": "text/x-python",
   "name": "python",
   "nbconvert_exporter": "python",
   "pygments_lexer": "ipython3",
   "version": "3.8.3"
  }
 },
 "nbformat": 4,
 "nbformat_minor": 4
}
