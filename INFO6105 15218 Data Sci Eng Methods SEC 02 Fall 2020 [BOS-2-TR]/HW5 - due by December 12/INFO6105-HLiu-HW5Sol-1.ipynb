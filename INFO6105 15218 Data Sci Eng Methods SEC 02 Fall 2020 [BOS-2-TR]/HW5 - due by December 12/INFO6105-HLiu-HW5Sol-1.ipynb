{
 "cells": [
  {
   "cell_type": "markdown",
   "metadata": {},
   "source": [
    "INFO6105 Instructor: Dr. Handan Liu\n",
    "\n",
    "Homework 5\n",
    "\n",
    "Grading: total 100 points\n"
   ]
  },
  {
   "cell_type": "code",
   "execution_count": 88,
   "metadata": {},
   "outputs": [],
   "source": [
    "#libraries\n",
    "import numpy as np\n",
    "import pandas as pd \n",
    "from sklearn.datasets import load_iris\n",
    "import matplotlib.pyplot as plt\n",
    "from sklearn.model_selection import train_test_split\n",
    "from sklearn.neighbors import KNeighborsClassifier\n",
    "import sklearn.metrics as metrics\n",
    "from sklearn.model_selection import cross_val_score\n",
    "from sklearn.linear_model import LogisticRegression\n",
    "from sklearn.linear_model import LinearRegression\n",
    "from sklearn.datasets import load_breast_cancer\n",
    "from sklearn.tree import DecisionTreeClassifier\n",
    "from sklearn.tree import export_graphviz\n",
    "from sklearn.metrics import accuracy_score"
   ]
  },
  {
   "cell_type": "raw",
   "metadata": {},
   "source": [
    "1. Parameter tuning (total 32 points)\n",
    "Goal: Select the best tuning parameters (aka \"hyperparameters\") for KNN (K nearest neighbors) on the iris dataset\n",
    "(0) read in the iris dataset: iris = load_iris()\n",
    "(1) create X (features) and y (response) [4pts]\n",
    "(2) 10-fold cross-validation with K=5 for KNN (the n_neighbors parameter), scoring is 'accuracy' [8pts]\n",
    "(3) use average accuracy as an estimate of out-of-sample accuracy [4pts]\n",
    "(4) search for an optimal value of K for KNN [10pts]\n",
    "(5) plot the value of K for KNN (x-axis) versus the cross-validated accuracy (y-axis) [6pts]"
   ]
  },
  {
   "cell_type": "code",
   "execution_count": 58,
   "metadata": {},
   "outputs": [],
   "source": [
    "#0\n",
    "iris = load_iris()\n"
   ]
  },
  {
   "cell_type": "code",
   "execution_count": 59,
   "metadata": {},
   "outputs": [],
   "source": [
    "#1\n",
    "X = iris.data\n",
    "y = iris.target"
   ]
  },
  {
   "cell_type": "code",
   "execution_count": 60,
   "metadata": {},
   "outputs": [
    {
     "name": "stdout",
     "output_type": "stream",
     "text": [
      "[1.         0.93333333 1.         1.         0.86666667 0.93333333\n",
      " 0.93333333 1.         1.         1.        ]\n"
     ]
    }
   ],
   "source": [
    "#2\n",
    "X_train, X_test, y_train, y_test = train_test_split(X, y, random_state=14)\n",
    "KNN = KNeighborsClassifier(n_neighbors=5)\n",
    "KNN.fit(X_train, y_train)\n",
    "scores = cross_val_score(KNN, X, y, cv=10, scoring='accuracy')\n",
    "print(scores)"
   ]
  },
  {
   "cell_type": "code",
   "execution_count": 61,
   "metadata": {},
   "outputs": [
    {
     "data": {
      "text/plain": [
       "0.9666666666666668"
      ]
     },
     "execution_count": 61,
     "metadata": {},
     "output_type": "execute_result"
    }
   ],
   "source": [
    "#3\n",
    "m=scores.mean()\n",
    "m"
   ]
  },
  {
   "cell_type": "code",
   "execution_count": 62,
   "metadata": {},
   "outputs": [
    {
     "name": "stdout",
     "output_type": "stream",
     "text": [
      "[0.96, 0.9533333333333334, 0.9666666666666666, 0.9666666666666666, 0.9666666666666668, 0.9666666666666668, 0.9666666666666668, 0.9666666666666668, 0.9733333333333334, 0.9666666666666668, 0.9666666666666668, 0.9733333333333334, 0.9800000000000001, 0.9733333333333334, 0.9733333333333334, 0.9733333333333334, 0.9733333333333334, 0.9800000000000001, 0.9733333333333334, 0.9800000000000001, 0.9666666666666666, 0.9666666666666666, 0.9733333333333334, 0.96, 0.9666666666666666, 0.96, 0.9666666666666666, 0.9533333333333334, 0.9533333333333334, 0.9533333333333334, 0.9466666666666667, 0.9466666666666667, 0.9466666666666667, 0.9466666666666667, 0.9466666666666667, 0.9466666666666667, 0.9466666666666667, 0.9466666666666667, 0.9533333333333334, 0.9533333333333334, 0.9533333333333334, 0.9533333333333334, 0.9466666666666667, 0.9400000000000001, 0.9333333333333333, 0.9333333333333333, 0.9333333333333333, 0.9333333333333333, 0.9400000000000001]\n"
     ]
    }
   ],
   "source": [
    "#4\n",
    "krange = range(1, 50)\n",
    "kscore = []\n",
    "for k in krange:\n",
    "    knn = KNeighborsClassifier(n_neighbors=k)\n",
    "    scores = cross_val_score(knn, X, y, cv=10, scoring='accuracy')\n",
    "    kscore.append(scores.mean())\n",
    "ks=kscores\n",
    "print(ks)"
   ]
  },
  {
   "cell_type": "code",
   "execution_count": 63,
   "metadata": {},
   "outputs": [
    {
     "data": {
      "text/plain": [
       "<function matplotlib.pyplot.title(label, fontdict=None, loc=None, pad=None, **kwargs)>"
      ]
     },
     "execution_count": 63,
     "metadata": {},
     "output_type": "execute_result"
    },
    {
     "data": {
      "image/png": "[encoded data removed]",
      "text/plain": [
       "<Figure size 432x288 with 1 Axes>"
      ]
     },
     "metadata": {
      "needs_background": "light"
     },
     "output_type": "display_data"
    }
   ],
   "source": [
    "#5\n",
    "plt.plot(k_range, k_scores,  color=\"green\")\n",
    "plt.xlabel(' K for KNN')\n",
    "plt.ylabel('Cross-validated accuracy')\n",
    "plt.title"
   ]
  },
  {
   "cell_type": "raw",
   "metadata": {},
   "source": [
    "2. Model selection (total 12 points)\n",
    "Goal: Compare the best KNN model with logistic regression on the iris dataset\n",
    "(1) 10-fold cross-validation with the best KNN model, scoring is 'accuracy' [6pts]\n",
    "(2) 10-fold cross-validation with logistic regression, scoring is 'accuracy' [6pts]"
   ]
  },
  {
   "cell_type": "code",
   "execution_count": 64,
   "metadata": {},
   "outputs": [
    {
     "name": "stdout",
     "output_type": "stream",
     "text": [
      " cross-validation with the best KNN mode 0.9400000000000001 \n",
      " cross-validation with logistic regression 0.9733333333333334\n"
     ]
    }
   ],
   "source": [
    "K=cross_val_score(knn, X, y, cv=10, scoring='accuracy').mean()\n",
    "#2\n",
    "lrg = LogisticRegression( max_iter=120000)\n",
    "Lr=cross_val_score(lrg, X, y, cv=10, scoring='accuracy').mean()\n",
    "print(\" cross-validation with the best KNN mode\",K,'\\n',\"cross-validation with logistic regression\",Lr)"
   ]
  },
  {
   "cell_type": "raw",
   "metadata": {},
   "source": [
    "3. Feature selection (total 36 points)\n",
    "Goal: Select whether the Newspaper feature should be included in the linear regression model on the advertising dataset\n",
    "(0) read in the advertising dataset\n",
    "(1) create a Python list of three feature names: TV, radio, newpaper (5 points)\n",
    "(2) use the list to select a subset of the DataFrame (X) (5 points)\n",
    "(3) select the sales column as the response (y) (5 points)\n",
    "(4) 10-fold cross-validation with all three features, scoring is 'neg_mean_squared_error' (6 points) \n",
    "(5) fix the sign of MSE scores (5 points)\n",
    "(6) convert from MSE to RMSE (5 points)\n",
    "(7) calculate the average RMSE (5 points)\n",
    "(8) 10-fold cross-validation with two features (excluding Newspaper), scoring is'neg_mean_squared_error' (10)"
   ]
  },
  {
   "cell_type": "code",
   "execution_count": 65,
   "metadata": {
    "scrolled": true
   },
   "outputs": [
    {
     "name": "stdout",
     "output_type": "stream",
     "text": [
      "   Unnamed: 0     TV  Radio  Newspaper  Sales\n",
      "0           1  230.1   37.8       69.2   22.1\n",
      "1           2   44.5   39.3       45.1   10.4\n",
      "2           3   17.2   45.9       69.3    9.3\n",
      "3           4  151.5   41.3       58.5   18.5\n",
      "4           5  180.8   10.8       58.4   12.9\n",
      "Index(['Unnamed: 0', 'TV', 'Radio', 'Newspaper', 'Sales'], dtype='object')\n"
     ]
    }
   ],
   "source": [
    "#0\n",
    "df=pd.read_csv(\"advertising.csv\")\n",
    "print(df.head())\n",
    "print(df.keys())"
   ]
  },
  {
   "cell_type": "code",
   "execution_count": 66,
   "metadata": {},
   "outputs": [
    {
     "name": "stdout",
     "output_type": "stream",
     "text": [
      "['TV', 'Radio', 'Newspaper']\n"
     ]
    }
   ],
   "source": [
    "#1\n",
    "f_list = ['TV', 'Radio', 'Newspaper']\n",
    "print(f_list)"
   ]
  },
  {
   "cell_type": "code",
   "execution_count": 67,
   "metadata": {},
   "outputs": [
    {
     "name": "stdout",
     "output_type": "stream",
     "text": [
      "        TV  Radio  Newspaper\n",
      "0    230.1   37.8       69.2\n",
      "1     44.5   39.3       45.1\n",
      "2     17.2   45.9       69.3\n",
      "3    151.5   41.3       58.5\n",
      "4    180.8   10.8       58.4\n",
      "..     ...    ...        ...\n",
      "195   38.2    3.7       13.8\n",
      "196   94.2    4.9        8.1\n",
      "197  177.0    9.3        6.4\n",
      "198  283.6   42.0       66.2\n",
      "199  232.1    8.6        8.7\n",
      "\n",
      "[200 rows x 3 columns]\n"
     ]
    }
   ],
   "source": [
    "#2\n",
    "X = df[f_list]\n",
    "print(X)"
   ]
  },
  {
   "cell_type": "code",
   "execution_count": 68,
   "metadata": {},
   "outputs": [
    {
     "name": "stdout",
     "output_type": "stream",
     "text": [
      "0      22.1\n",
      "1      10.4\n",
      "2       9.3\n",
      "3      18.5\n",
      "4      12.9\n",
      "       ... \n",
      "195     7.6\n",
      "196     9.7\n",
      "197    12.8\n",
      "198    25.5\n",
      "199    13.4\n",
      "Name: Sales, Length: 200, dtype: float64\n"
     ]
    }
   ],
   "source": [
    "#3\n",
    "y = df.Sales\n",
    "print(y)"
   ]
  },
  {
   "cell_type": "code",
   "execution_count": 69,
   "metadata": {},
   "outputs": [
    {
     "name": "stdout",
     "output_type": "stream",
     "text": [
      "[-3.56038438 -3.29767522 -2.08943356 -2.82474283 -1.3027754  -1.74163618\n",
      " -8.17338214 -2.11409746 -3.04273109 -2.45281793]\n"
     ]
    }
   ],
   "source": [
    "#4\n",
    "lr = LinearRegression()\n",
    "SC = cross_val_score(lr, X, y, cv=10, scoring='neg_mean_squared_error')\n",
    "print(SC)"
   ]
  },
  {
   "cell_type": "code",
   "execution_count": 70,
   "metadata": {},
   "outputs": [
    {
     "name": "stdout",
     "output_type": "stream",
     "text": [
      "[3.56038438 3.29767522 2.08943356 2.82474283 1.3027754  1.74163618\n",
      " 8.17338214 2.11409746 3.04273109 2.45281793]\n"
     ]
    }
   ],
   "source": [
    "#5\n",
    "MSC= -SC\n",
    "print(MSC)"
   ]
  },
  {
   "cell_type": "code",
   "execution_count": 71,
   "metadata": {},
   "outputs": [
    {
     "name": "stdout",
     "output_type": "stream",
     "text": [
      "[1.88689808 1.81595022 1.44548731 1.68069713 1.14139187 1.31971064\n",
      " 2.85891276 1.45399362 1.7443426  1.56614748]\n"
     ]
    }
   ],
   "source": [
    "#6\n",
    "RMSC= np.sqrt(MSC)\n",
    "print(RMSC)"
   ]
  },
  {
   "cell_type": "code",
   "execution_count": 72,
   "metadata": {},
   "outputs": [
    {
     "name": "stdout",
     "output_type": "stream",
     "text": [
      "1.6913531708051797\n"
     ]
    }
   ],
   "source": [
    "#7\n",
    "meanRMSC=RMSC.mean()\n",
    "print(meanRMSC)"
   ]
  },
  {
   "cell_type": "code",
   "execution_count": 85,
   "metadata": {},
   "outputs": [
    {
     "name": "stdout",
     "output_type": "stream",
     "text": [
      "crossvalidation [-3.38264572 -3.28736055 -2.09185507 -2.81784389 -1.27311083 -1.74391853\n",
      " -8.0006111  -2.07650936 -3.03635301 -2.4289835 ] \n",
      "\n",
      "\n",
      "\n",
      "\n",
      " Mean squareroot cross validation:- 1.6796748419090766\n"
     ]
    }
   ],
   "source": [
    "#8\n",
    "f_list = ['TV', 'Radio']\n",
    "X = df[f_list]\n",
    "cvr=cross_val_score(lr, X, y, cv=10, scoring='neg_mean_squared_error')\n",
    "CVR=-cvr\n",
    "SQRTCVR=np.sqrt(CVR)\n",
    "MSQRTCVR=SQRTCVR.mean()\n",
    "print(\"crossvalidation\",cvr,\"\\n\" * 5,\"Mean squareroot cross validation:-\",MSQRTCVR)\n"
   ]
  },
  {
   "cell_type": "raw",
   "metadata": {},
   "source": [
    "4. Contruct a decision tree (total 20 points)\n",
    "(1) After loading Breast Cancer dataset, print the target names (target_names) and feature names (feature_names). [4 pts] \n",
    "(2) Split the dataset into 2 parts: half for traning and another half for testing [2pts], and instantiate the decision tree model (setting max_depth=4) [2pts] to get the accuracy score for testing data[2pts]. [6 pts]\n",
    "(3) Drawing a decision tree using graphviz with the parameters as: 'class_names' is set as malignant and benign, 'feature_names' is set as the feature names, 'impurity' is False and 'filled' is True; output the tree as a file. [5pts] \n",
    "    read in this file and visualize this tree graph. [5pts]"
   ]
  },
  {
   "cell_type": "code",
   "execution_count": 40,
   "metadata": {},
   "outputs": [
    {
     "name": "stdout",
     "output_type": "stream",
     "text": [
      "dict_keys(['data', 'target', 'frame', 'target_names', 'DESCR', 'feature_names', 'filename'])\n"
     ]
    }
   ],
   "source": [
    "#1\n",
    "bcr=load_breast_cancer()\n",
    "print(bcr.keys())"
   ]
  },
  {
   "cell_type": "code",
   "execution_count": 45,
   "metadata": {
    "scrolled": true
   },
   "outputs": [
    {
     "name": "stdout",
     "output_type": "stream",
     "text": [
      "target_names:- ['malignant' 'benign'] \n",
      " feature_names:- ['mean radius' 'mean texture' 'mean perimeter' 'mean area'\n",
      " 'mean smoothness' 'mean compactness' 'mean concavity'\n",
      " 'mean concave points' 'mean symmetry' 'mean fractal dimension'\n",
      " 'radius error' 'texture error' 'perimeter error' 'area error'\n",
      " 'smoothness error' 'compactness error' 'concavity error'\n",
      " 'concave points error' 'symmetry error' 'fractal dimension error'\n",
      " 'worst radius' 'worst texture' 'worst perimeter' 'worst area'\n",
      " 'worst smoothness' 'worst compactness' 'worst concavity'\n",
      " 'worst concave points' 'worst symmetry' 'worst fractal dimension']\n"
     ]
    }
   ],
   "source": [
    "#1.2\n",
    "x=bcr.target_names\n",
    "y=bcr.feature_names\n",
    "print(\"target_names:-\",x,\"\\n\",\"feature_names:-\",y)"
   ]
  },
  {
   "cell_type": "code",
   "execution_count": 48,
   "metadata": {},
   "outputs": [
    {
     "name": "stdout",
     "output_type": "stream",
     "text": [
      "Collecting package metadata (current_repodata.json): ...working... done\n",
      "Solving environment: ...working... done\n",
      "\n",
      "# All requested packages already installed.\n",
      "\n",
      "\n",
      "Note: you may need to restart the kernel to use updated packages.\n"
     ]
    }
   ],
   "source": [
    "conda install -c anaconda python-graphviz"
   ]
  },
  {
   "cell_type": "code",
   "execution_count": 49,
   "metadata": {},
   "outputs": [
    {
     "name": "stdout",
     "output_type": "stream",
     "text": [
      "Collecting package metadata (current_repodata.json): ...working... done\n",
      "Solving environment: ...working... done\n",
      "\n",
      "# All requested packages already installed.\n",
      "\n",
      "\n",
      "Note: you may need to restart the kernel to use updated packages.\n"
     ]
    }
   ],
   "source": [
    "conda install -c anaconda pydot"
   ]
  },
  {
   "cell_type": "code",
   "execution_count": 89,
   "metadata": {},
   "outputs": [
    {
     "name": "stdout",
     "output_type": "stream",
     "text": [
      "accuracy score 0.9263157894736842\n"
     ]
    }
   ],
   "source": [
    "#2 \n",
    "X, y = load_breast_cancer(return_X_y=True)\n",
    "X_train, X_test, y_train, y_test = train_test_split(X, y,test_size = 1/2, random_state=0)\n",
    "clf = DecisionTreeClassifier(random_state=0,max_depth=4)\n",
    "clf.fit(X_train, y_train)\n",
    "y_pred= clf.predict(X_test)\n",
    "acc_DT = accuracy_score(y_test, y_pred)\n",
    "print(\"accuracy score\",acc_DT)"
   ]
  },
  {
   "cell_type": "code",
   "execution_count": 91,
   "metadata": {
    "scrolled": true
   },
   "outputs": [
    {
     "data": {
      "image/svg+xml": [
       "<?xml version=\"1.0\" encoding=\"UTF-8\" standalone=\"no\"?>\r\n",
       "<!DOCTYPE svg PUBLIC \"-//W3C//DTD SVG 1.1//EN\"\r\n",
       " \"http://www.w3.org/Graphics/SVG/1.1/DTD/svg11.dtd\">\r\n",
       "<!-- Generated by graphviz version 2.38.0 (20140413.2041)\r\n",
       " -->\r\n",
       "<!-- Title: Tree Pages: 1 -->\r\n",
       "<svg width=\"870pt\" height=\"477pt\"\r\n",
       " viewBox=\"0.00 0.00 869.50 477.00\" xmlns=\"http://www.w3.org/2000/svg\" xmlns:xlink=\"http://www.w3.org/1999/xlink\">\r\n",
       "<g id=\"graph0\" class=\"graph\" transform=\"scale(1 1) rotate(0) translate(4 473)\">\r\n",
       "<title>Tree</title>\r\n",
       "<polygon fill=\"white\" stroke=\"none\" points=\"-4,4 -4,-473 865.5,-473 865.5,4 -4,4\"/>\r\n",
       "<!-- 0 -->\r\n",
       "<g id=\"node1\" class=\"node\"><title>0</title>\r\n",
       "<polygon fill=\"#b8dcf6\" stroke=\"black\" points=\"564.5,-469 373.5,-469 373.5,-401 564.5,-401 564.5,-469\"/>\r\n",
       "<text text-anchor=\"middle\" x=\"469\" y=\"-453.8\" font-family=\"Times New Roman,serif\" font-size=\"14.00\">worst concave points &lt;= 0.142</text>\r\n",
       "<text text-anchor=\"middle\" x=\"469\" y=\"-438.8\" font-family=\"Times New Roman,serif\" font-size=\"14.00\">samples = 284</text>\r\n",
       "<text text-anchor=\"middle\" x=\"469\" y=\"-423.8\" font-family=\"Times New Roman,serif\" font-size=\"14.00\">value = [111, 173]</text>\r\n",
       "<text text-anchor=\"middle\" x=\"469\" y=\"-408.8\" font-family=\"Times New Roman,serif\" font-size=\"14.00\">class = benign</text>\r\n",
       "</g>\r\n",
       "<!-- 1 -->\r\n",
       "<g id=\"node2\" class=\"node\"><title>1</title>\r\n",
       "<polygon fill=\"#49a5e7\" stroke=\"black\" points=\"460.5,-365 295.5,-365 295.5,-297 460.5,-297 460.5,-365\"/>\r\n",
       "<text text-anchor=\"middle\" x=\"378\" y=\"-349.8\" font-family=\"Times New Roman,serif\" font-size=\"14.00\">worst perimeter &lt;= 128.05</text>\r\n",
       "<text text-anchor=\"middle\" x=\"378\" y=\"-334.8\" font-family=\"Times New Roman,serif\" font-size=\"14.00\">samples = 182</text>\r\n",
       "<text text-anchor=\"middle\" x=\"378\" y=\"-319.8\" font-family=\"Times New Roman,serif\" font-size=\"14.00\">value = [14, 168]</text>\r\n",
       "<text text-anchor=\"middle\" x=\"378\" y=\"-304.8\" font-family=\"Times New Roman,serif\" font-size=\"14.00\">class = benign</text>\r\n",
       "</g>\r\n",
       "<!-- 0&#45;&gt;1 -->\r\n",
       "<g id=\"edge1\" class=\"edge\"><title>0&#45;&gt;1</title>\r\n",
       "<path fill=\"none\" stroke=\"black\" d=\"M439.455,-400.884C431.508,-391.976 422.818,-382.235 414.54,-372.957\"/>\r\n",
       "<polygon fill=\"black\" stroke=\"black\" points=\"416.977,-370.431 407.708,-365.299 411.754,-375.091 416.977,-370.431\"/>\r\n",
       "<text text-anchor=\"middle\" x=\"406.286\" y=\"-386.559\" font-family=\"Times New Roman,serif\" font-size=\"14.00\">True</text>\r\n",
       "</g>\r\n",
       "<!-- 10 -->\r\n",
       "<g id=\"node11\" class=\"node\"><title>10</title>\r\n",
       "<polygon fill=\"#e68743\" stroke=\"black\" points=\"643.5,-365 478.5,-365 478.5,-297 643.5,-297 643.5,-365\"/>\r\n",
       "<text text-anchor=\"middle\" x=\"561\" y=\"-349.8\" font-family=\"Times New Roman,serif\" font-size=\"14.00\">worst perimeter &lt;= 81.865</text>\r\n",
       "<text text-anchor=\"middle\" x=\"561\" y=\"-334.8\" font-family=\"Times New Roman,serif\" font-size=\"14.00\">samples = 102</text>\r\n",
       "<text text-anchor=\"middle\" x=\"561\" y=\"-319.8\" font-family=\"Times New Roman,serif\" font-size=\"14.00\">value = [97, 5]</text>\r\n",
       "<text text-anchor=\"middle\" x=\"561\" y=\"-304.8\" font-family=\"Times New Roman,serif\" font-size=\"14.00\">class = malignant</text>\r\n",
       "</g>\r\n",
       "<!-- 0&#45;&gt;10 -->\r\n",
       "<g id=\"edge10\" class=\"edge\"><title>0&#45;&gt;10</title>\r\n",
       "<path fill=\"none\" stroke=\"black\" d=\"M498.87,-400.884C506.904,-391.976 515.69,-382.235 524.059,-372.957\"/>\r\n",
       "<polygon fill=\"black\" stroke=\"black\" points=\"526.867,-375.069 530.965,-365.299 521.669,-370.381 526.867,-375.069\"/>\r\n",
       "<text text-anchor=\"middle\" x=\"532.252\" y=\"-386.566\" font-family=\"Times New Roman,serif\" font-size=\"14.00\">False</text>\r\n",
       "</g>\r\n",
       "<!-- 2 -->\r\n",
       "<g id=\"node3\" class=\"node\"><title>2</title>\r\n",
       "<polygon fill=\"#42a2e6\" stroke=\"black\" points=\"318.5,-261 127.5,-261 127.5,-193 318.5,-193 318.5,-261\"/>\r\n",
       "<text text-anchor=\"middle\" x=\"223\" y=\"-245.8\" font-family=\"Times New Roman,serif\" font-size=\"14.00\">worst concave points &lt;= 0.111</text>\r\n",
       "<text text-anchor=\"middle\" x=\"223\" y=\"-230.8\" font-family=\"Times New Roman,serif\" font-size=\"14.00\">samples = 176</text>\r\n",
       "<text text-anchor=\"middle\" x=\"223\" y=\"-215.8\" font-family=\"Times New Roman,serif\" font-size=\"14.00\">value = [8, 168]</text>\r\n",
       "<text text-anchor=\"middle\" x=\"223\" y=\"-200.8\" font-family=\"Times New Roman,serif\" font-size=\"14.00\">class = benign</text>\r\n",
       "</g>\r\n",
       "<!-- 1&#45;&gt;2 -->\r\n",
       "<g id=\"edge2\" class=\"edge\"><title>1&#45;&gt;2</title>\r\n",
       "<path fill=\"none\" stroke=\"black\" d=\"M327.676,-296.884C313.119,-287.304 297.097,-276.761 282.059,-266.864\"/>\r\n",
       "<polygon fill=\"black\" stroke=\"black\" points=\"283.614,-263.698 273.337,-261.125 279.766,-269.546 283.614,-263.698\"/>\r\n",
       "</g>\r\n",
       "<!-- 9 -->\r\n",
       "<g id=\"node10\" class=\"node\"><title>9</title>\r\n",
       "<polygon fill=\"#e58139\" stroke=\"black\" points=\"449.5,-253.5 336.5,-253.5 336.5,-200.5 449.5,-200.5 449.5,-253.5\"/>\r\n",
       "<text text-anchor=\"middle\" x=\"393\" y=\"-238.3\" font-family=\"Times New Roman,serif\" font-size=\"14.00\">samples = 6</text>\r\n",
       "<text text-anchor=\"middle\" x=\"393\" y=\"-223.3\" font-family=\"Times New Roman,serif\" font-size=\"14.00\">value = [6, 0]</text>\r\n",
       "<text text-anchor=\"middle\" x=\"393\" y=\"-208.3\" font-family=\"Times New Roman,serif\" font-size=\"14.00\">class = malignant</text>\r\n",
       "</g>\r\n",
       "<!-- 1&#45;&gt;9 -->\r\n",
       "<g id=\"edge9\" class=\"edge\"><title>1&#45;&gt;9</title>\r\n",
       "<path fill=\"none\" stroke=\"black\" d=\"M382.87,-296.884C384.439,-286.216 386.183,-274.352 387.777,-263.519\"/>\r\n",
       "<polygon fill=\"black\" stroke=\"black\" points=\"391.255,-263.923 389.247,-253.52 384.329,-262.904 391.255,-263.923\"/>\r\n",
       "</g>\r\n",
       "<!-- 3 -->\r\n",
       "<g id=\"node4\" class=\"node\"><title>3</title>\r\n",
       "<polygon fill=\"#3a9ee5\" stroke=\"black\" points=\"223,-157 87,-157 87,-89 223,-89 223,-157\"/>\r\n",
       "<text text-anchor=\"middle\" x=\"155\" y=\"-141.8\" font-family=\"Times New Roman,serif\" font-size=\"14.00\">radius error &lt;= 0.643</text>\r\n",
       "<text text-anchor=\"middle\" x=\"155\" y=\"-126.8\" font-family=\"Times New Roman,serif\" font-size=\"14.00\">samples = 151</text>\r\n",
       "<text text-anchor=\"middle\" x=\"155\" y=\"-111.8\" font-family=\"Times New Roman,serif\" font-size=\"14.00\">value = [1, 150]</text>\r\n",
       "<text text-anchor=\"middle\" x=\"155\" y=\"-96.8\" font-family=\"Times New Roman,serif\" font-size=\"14.00\">class = benign</text>\r\n",
       "</g>\r\n",
       "<!-- 2&#45;&gt;3 -->\r\n",
       "<g id=\"edge3\" class=\"edge\"><title>2&#45;&gt;3</title>\r\n",
       "<path fill=\"none\" stroke=\"black\" d=\"M200.922,-192.884C195.162,-184.243 188.879,-174.819 182.862,-165.793\"/>\r\n",
       "<polygon fill=\"black\" stroke=\"black\" points=\"185.659,-163.678 177.2,-157.299 179.834,-167.561 185.659,-163.678\"/>\r\n",
       "</g>\r\n",
       "<!-- 6 -->\r\n",
       "<g id=\"node7\" class=\"node\"><title>6</title>\r\n",
       "<polygon fill=\"#86c3ef\" stroke=\"black\" points=\"441,-157 241,-157 241,-89 441,-89 441,-157\"/>\r\n",
       "<text text-anchor=\"middle\" x=\"341\" y=\"-141.8\" font-family=\"Times New Roman,serif\" font-size=\"14.00\">mean fractal dimension &lt;= 0.057</text>\r\n",
       "<text text-anchor=\"middle\" x=\"341\" y=\"-126.8\" font-family=\"Times New Roman,serif\" font-size=\"14.00\">samples = 25</text>\r\n",
       "<text text-anchor=\"middle\" x=\"341\" y=\"-111.8\" font-family=\"Times New Roman,serif\" font-size=\"14.00\">value = [7, 18]</text>\r\n",
       "<text text-anchor=\"middle\" x=\"341\" y=\"-96.8\" font-family=\"Times New Roman,serif\" font-size=\"14.00\">class = benign</text>\r\n",
       "</g>\r\n",
       "<!-- 2&#45;&gt;6 -->\r\n",
       "<g id=\"edge6\" class=\"edge\"><title>2&#45;&gt;6</title>\r\n",
       "<path fill=\"none\" stroke=\"black\" d=\"M261.311,-192.884C272.028,-183.62 283.788,-173.455 294.904,-163.845\"/>\r\n",
       "<polygon fill=\"black\" stroke=\"black\" points=\"297.201,-166.487 302.477,-157.299 292.623,-161.191 297.201,-166.487\"/>\r\n",
       "</g>\r\n",
       "<!-- 4 -->\r\n",
       "<g id=\"node5\" class=\"node\"><title>4</title>\r\n",
       "<polygon fill=\"#399de5\" stroke=\"black\" points=\"104,-53 0,-53 0,-0 104,-0 104,-53\"/>\r\n",
       "<text text-anchor=\"middle\" x=\"52\" y=\"-37.8\" font-family=\"Times New Roman,serif\" font-size=\"14.00\">samples = 148</text>\r\n",
       "<text text-anchor=\"middle\" x=\"52\" y=\"-22.8\" font-family=\"Times New Roman,serif\" font-size=\"14.00\">value = [0, 148]</text>\r\n",
       "<text text-anchor=\"middle\" x=\"52\" y=\"-7.8\" font-family=\"Times New Roman,serif\" font-size=\"14.00\">class = benign</text>\r\n",
       "</g>\r\n",
       "<!-- 3&#45;&gt;4 -->\r\n",
       "<g id=\"edge4\" class=\"edge\"><title>3&#45;&gt;4</title>\r\n",
       "<path fill=\"none\" stroke=\"black\" d=\"M118.976,-88.9485C108.805,-79.6175 97.7474,-69.4722 87.6021,-60.1641\"/>\r\n",
       "<polygon fill=\"black\" stroke=\"black\" points=\"89.7864,-57.4182 80.0516,-53.2367 85.0541,-62.5762 89.7864,-57.4182\"/>\r\n",
       "</g>\r\n",
       "<!-- 5 -->\r\n",
       "<g id=\"node6\" class=\"node\"><title>5</title>\r\n",
       "<polygon fill=\"#9ccef2\" stroke=\"black\" points=\"219.5,-53 122.5,-53 122.5,-0 219.5,-0 219.5,-53\"/>\r\n",
       "<text text-anchor=\"middle\" x=\"171\" y=\"-37.8\" font-family=\"Times New Roman,serif\" font-size=\"14.00\">samples = 3</text>\r\n",
       "<text text-anchor=\"middle\" x=\"171\" y=\"-22.8\" font-family=\"Times New Roman,serif\" font-size=\"14.00\">value = [1, 2]</text>\r\n",
       "<text text-anchor=\"middle\" x=\"171\" y=\"-7.8\" font-family=\"Times New Roman,serif\" font-size=\"14.00\">class = benign</text>\r\n",
       "</g>\r\n",
       "<!-- 3&#45;&gt;5 -->\r\n",
       "<g id=\"edge5\" class=\"edge\"><title>3&#45;&gt;5</title>\r\n",
       "<path fill=\"none\" stroke=\"black\" d=\"M160.596,-88.9485C162.005,-80.6238 163.525,-71.6509 164.955,-63.2027\"/>\r\n",
       "<polygon fill=\"black\" stroke=\"black\" points=\"168.424,-63.6807 166.642,-53.2367 161.522,-62.5121 168.424,-63.6807\"/>\r\n",
       "</g>\r\n",
       "<!-- 7 -->\r\n",
       "<g id=\"node8\" class=\"node\"><title>7</title>\r\n",
       "<polygon fill=\"#e58139\" stroke=\"black\" points=\"381.5,-53 268.5,-53 268.5,-0 381.5,-0 381.5,-53\"/>\r\n",
       "<text text-anchor=\"middle\" x=\"325\" y=\"-37.8\" font-family=\"Times New Roman,serif\" font-size=\"14.00\">samples = 3</text>\r\n",
       "<text text-anchor=\"middle\" x=\"325\" y=\"-22.8\" font-family=\"Times New Roman,serif\" font-size=\"14.00\">value = [3, 0]</text>\r\n",
       "<text text-anchor=\"middle\" x=\"325\" y=\"-7.8\" font-family=\"Times New Roman,serif\" font-size=\"14.00\">class = malignant</text>\r\n",
       "</g>\r\n",
       "<!-- 6&#45;&gt;7 -->\r\n",
       "<g id=\"edge7\" class=\"edge\"><title>6&#45;&gt;7</title>\r\n",
       "<path fill=\"none\" stroke=\"black\" d=\"M335.404,-88.9485C333.995,-80.6238 332.475,-71.6509 331.045,-63.2027\"/>\r\n",
       "<polygon fill=\"black\" stroke=\"black\" points=\"334.478,-62.5121 329.358,-53.2367 327.576,-63.6807 334.478,-62.5121\"/>\r\n",
       "</g>\r\n",
       "<!-- 8 -->\r\n",
       "<g id=\"node9\" class=\"node\"><title>8</title>\r\n",
       "<polygon fill=\"#65b3eb\" stroke=\"black\" points=\"498,-53 400,-53 400,-0 498,-0 498,-53\"/>\r\n",
       "<text text-anchor=\"middle\" x=\"449\" y=\"-37.8\" font-family=\"Times New Roman,serif\" font-size=\"14.00\">samples = 22</text>\r\n",
       "<text text-anchor=\"middle\" x=\"449\" y=\"-22.8\" font-family=\"Times New Roman,serif\" font-size=\"14.00\">value = [4, 18]</text>\r\n",
       "<text text-anchor=\"middle\" x=\"449\" y=\"-7.8\" font-family=\"Times New Roman,serif\" font-size=\"14.00\">class = benign</text>\r\n",
       "</g>\r\n",
       "<!-- 6&#45;&gt;8 -->\r\n",
       "<g id=\"edge8\" class=\"edge\"><title>6&#45;&gt;8</title>\r\n",
       "<path fill=\"none\" stroke=\"black\" d=\"M378.773,-88.9485C389.542,-79.526 401.259,-69.2731 411.982,-59.8906\"/>\r\n",
       "<polygon fill=\"black\" stroke=\"black\" points=\"414.366,-62.4558 419.587,-53.2367 409.756,-57.1878 414.366,-62.4558\"/>\r\n",
       "</g>\r\n",
       "<!-- 11 -->\r\n",
       "<g id=\"node12\" class=\"node\"><title>11</title>\r\n",
       "<polygon fill=\"#399de5\" stroke=\"black\" points=\"594.5,-253.5 497.5,-253.5 497.5,-200.5 594.5,-200.5 594.5,-253.5\"/>\r\n",
       "<text text-anchor=\"middle\" x=\"546\" y=\"-238.3\" font-family=\"Times New Roman,serif\" font-size=\"14.00\">samples = 2</text>\r\n",
       "<text text-anchor=\"middle\" x=\"546\" y=\"-223.3\" font-family=\"Times New Roman,serif\" font-size=\"14.00\">value = [0, 2]</text>\r\n",
       "<text text-anchor=\"middle\" x=\"546\" y=\"-208.3\" font-family=\"Times New Roman,serif\" font-size=\"14.00\">class = benign</text>\r\n",
       "</g>\r\n",
       "<!-- 10&#45;&gt;11 -->\r\n",
       "<g id=\"edge11\" class=\"edge\"><title>10&#45;&gt;11</title>\r\n",
       "<path fill=\"none\" stroke=\"black\" d=\"M556.13,-296.884C554.561,-286.216 552.817,-274.352 551.223,-263.519\"/>\r\n",
       "<polygon fill=\"black\" stroke=\"black\" points=\"554.671,-262.904 549.753,-253.52 547.745,-263.923 554.671,-262.904\"/>\r\n",
       "</g>\r\n",
       "<!-- 12 -->\r\n",
       "<g id=\"node13\" class=\"node\"><title>12</title>\r\n",
       "<polygon fill=\"#e6853f\" stroke=\"black\" points=\"771,-261 613,-261 613,-193 771,-193 771,-261\"/>\r\n",
       "<text text-anchor=\"middle\" x=\"692\" y=\"-245.8\" font-family=\"Times New Roman,serif\" font-size=\"14.00\">mean concavity &lt;= 0.088</text>\r\n",
       "<text text-anchor=\"middle\" x=\"692\" y=\"-230.8\" font-family=\"Times New Roman,serif\" font-size=\"14.00\">samples = 100</text>\r\n",
       "<text text-anchor=\"middle\" x=\"692\" y=\"-215.8\" font-family=\"Times New Roman,serif\" font-size=\"14.00\">value = [97, 3]</text>\r\n",
       "<text text-anchor=\"middle\" x=\"692\" y=\"-200.8\" font-family=\"Times New Roman,serif\" font-size=\"14.00\">class = malignant</text>\r\n",
       "</g>\r\n",
       "<!-- 10&#45;&gt;12 -->\r\n",
       "<g id=\"edge12\" class=\"edge\"><title>10&#45;&gt;12</title>\r\n",
       "<path fill=\"none\" stroke=\"black\" d=\"M603.532,-296.884C615.544,-287.531 628.736,-277.259 641.182,-267.568\"/>\r\n",
       "<polygon fill=\"black\" stroke=\"black\" points=\"643.493,-270.205 649.233,-261.299 639.193,-264.681 643.493,-270.205\"/>\r\n",
       "</g>\r\n",
       "<!-- 13 -->\r\n",
       "<g id=\"node14\" class=\"node\"><title>13</title>\r\n",
       "<polygon fill=\"#ffffff\" stroke=\"black\" points=\"730.5,-157 581.5,-157 581.5,-89 730.5,-89 730.5,-157\"/>\r\n",
       "<text text-anchor=\"middle\" x=\"656\" y=\"-141.8\" font-family=\"Times New Roman,serif\" font-size=\"14.00\">mean texture &lt;= 19.615</text>\r\n",
       "<text text-anchor=\"middle\" x=\"656\" y=\"-126.8\" font-family=\"Times New Roman,serif\" font-size=\"14.00\">samples = 6</text>\r\n",
       "<text text-anchor=\"middle\" x=\"656\" y=\"-111.8\" font-family=\"Times New Roman,serif\" font-size=\"14.00\">value = [3, 3]</text>\r\n",
       "<text text-anchor=\"middle\" x=\"656\" y=\"-96.8\" font-family=\"Times New Roman,serif\" font-size=\"14.00\">class = malignant</text>\r\n",
       "</g>\r\n",
       "<!-- 12&#45;&gt;13 -->\r\n",
       "<g id=\"edge13\" class=\"edge\"><title>12&#45;&gt;13</title>\r\n",
       "<path fill=\"none\" stroke=\"black\" d=\"M680.312,-192.884C677.388,-184.6 674.21,-175.595 671.145,-166.911\"/>\r\n",
       "<polygon fill=\"black\" stroke=\"black\" points=\"674.381,-165.564 667.753,-157.299 667.781,-167.894 674.381,-165.564\"/>\r\n",
       "</g>\r\n",
       "<!-- 16 -->\r\n",
       "<g id=\"node17\" class=\"node\"><title>16</title>\r\n",
       "<polygon fill=\"#e58139\" stroke=\"black\" points=\"861.5,-149.5 748.5,-149.5 748.5,-96.5 861.5,-96.5 861.5,-149.5\"/>\r\n",
       "<text text-anchor=\"middle\" x=\"805\" y=\"-134.3\" font-family=\"Times New Roman,serif\" font-size=\"14.00\">samples = 94</text>\r\n",
       "<text text-anchor=\"middle\" x=\"805\" y=\"-119.3\" font-family=\"Times New Roman,serif\" font-size=\"14.00\">value = [94, 0]</text>\r\n",
       "<text text-anchor=\"middle\" x=\"805\" y=\"-104.3\" font-family=\"Times New Roman,serif\" font-size=\"14.00\">class = malignant</text>\r\n",
       "</g>\r\n",
       "<!-- 12&#45;&gt;16 -->\r\n",
       "<g id=\"edge16\" class=\"edge\"><title>12&#45;&gt;16</title>\r\n",
       "<path fill=\"none\" stroke=\"black\" d=\"M728.688,-192.884C741.603,-181.226 756.099,-168.141 768.96,-156.532\"/>\r\n",
       "<polygon fill=\"black\" stroke=\"black\" points=\"771.65,-158.819 776.728,-149.52 766.96,-153.622 771.65,-158.819\"/>\r\n",
       "</g>\r\n",
       "<!-- 14 -->\r\n",
       "<g id=\"node15\" class=\"node\"><title>14</title>\r\n",
       "<polygon fill=\"#399de5\" stroke=\"black\" points=\"668.5,-53 571.5,-53 571.5,-0 668.5,-0 668.5,-53\"/>\r\n",
       "<text text-anchor=\"middle\" x=\"620\" y=\"-37.8\" font-family=\"Times New Roman,serif\" font-size=\"14.00\">samples = 3</text>\r\n",
       "<text text-anchor=\"middle\" x=\"620\" y=\"-22.8\" font-family=\"Times New Roman,serif\" font-size=\"14.00\">value = [0, 3]</text>\r\n",
       "<text text-anchor=\"middle\" x=\"620\" y=\"-7.8\" font-family=\"Times New Roman,serif\" font-size=\"14.00\">class = benign</text>\r\n",
       "</g>\r\n",
       "<!-- 13&#45;&gt;14 -->\r\n",
       "<g id=\"edge14\" class=\"edge\"><title>13&#45;&gt;14</title>\r\n",
       "<path fill=\"none\" stroke=\"black\" d=\"M643.409,-88.9485C640.168,-80.4408 636.669,-71.2562 633.389,-62.6464\"/>\r\n",
       "<polygon fill=\"black\" stroke=\"black\" points=\"636.635,-61.3356 629.804,-53.2367 630.094,-63.8276 636.635,-61.3356\"/>\r\n",
       "</g>\r\n",
       "<!-- 15 -->\r\n",
       "<g id=\"node16\" class=\"node\"><title>15</title>\r\n",
       "<polygon fill=\"#e58139\" stroke=\"black\" points=\"799.5,-53 686.5,-53 686.5,-0 799.5,-0 799.5,-53\"/>\r\n",
       "<text text-anchor=\"middle\" x=\"743\" y=\"-37.8\" font-family=\"Times New Roman,serif\" font-size=\"14.00\">samples = 3</text>\r\n",
       "<text text-anchor=\"middle\" x=\"743\" y=\"-22.8\" font-family=\"Times New Roman,serif\" font-size=\"14.00\">value = [3, 0]</text>\r\n",
       "<text text-anchor=\"middle\" x=\"743\" y=\"-7.8\" font-family=\"Times New Roman,serif\" font-size=\"14.00\">class = malignant</text>\r\n",
       "</g>\r\n",
       "<!-- 13&#45;&gt;15 -->\r\n",
       "<g id=\"edge15\" class=\"edge\"><title>13&#45;&gt;15</title>\r\n",
       "<path fill=\"none\" stroke=\"black\" d=\"M686.428,-88.9485C694.85,-79.8005 703.993,-69.8697 712.423,-60.7126\"/>\r\n",
       "<polygon fill=\"black\" stroke=\"black\" points=\"715.108,-62.9643 719.306,-53.2367 709.958,-58.2231 715.108,-62.9643\"/>\r\n",
       "</g>\r\n",
       "</g>\r\n",
       "</svg>\r\n"
      ],
      "text/plain": [
       "<graphviz.files.Source at 0x268d041f550>"
      ]
     },
     "execution_count": 91,
     "metadata": {},
     "output_type": "execute_result"
    }
   ],
   "source": [
    "#3\n",
    "export_graphviz(clf,out_file=\"decisontree.dot\",class_names=['malignant',\"benign\"],feature_names=bcr.feature_names,impurity=False,filled=True)\n",
    "import graphviz\n",
    "with open(\"decisontree.dot\") as dt:\n",
    "    dtg=dt.read()\n",
    "graphviz.Source(dtg)"
   ]
  }
 ],
 "metadata": {
  "kernelspec": {
   "display_name": "Python 3",
   "language": "python",
   "name": "python3"
  },
  "language_info": {
   "codemirror_mode": {
    "name": "ipython",
    "version": 3
   },
   "file_extension": ".py",
   "mimetype": "text/x-python",
   "name": "python",
   "nbconvert_exporter": "python",
   "pygments_lexer": "ipython3",
   "version": "3.8.3"
  }
 },
 "nbformat": 4,
 "nbformat_minor": 4
}
